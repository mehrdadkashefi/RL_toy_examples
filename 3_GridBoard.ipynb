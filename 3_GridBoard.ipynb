{
 "cells": [
  {
   "cell_type": "code",
   "execution_count": 80,
   "metadata": {},
   "outputs": [],
   "source": [
    "import numpy as np\n",
    "import matplotlib.pyplot as plt\n",
    "import seaborn as sb\n",
    "import torch\n",
    "from utils.Gridworld import Gridworld\n",
    "from tqdm import tqdm\n",
    "from utils.miscellaneous import *\n",
    "from collections import deque\n",
    "import random\n",
    "import copy"
   ]
  },
  {
   "cell_type": "code",
   "execution_count": 3,
   "metadata": {},
   "outputs": [
    {
     "name": "stdout",
     "output_type": "stream",
     "text": [
      "[['+' '-' ' ' 'P']\n",
      " [' ' 'W' ' ' ' ']\n",
      " [' ' ' ' ' ' ' ']\n",
      " [' ' ' ' ' ' ' ']]\n"
     ]
    }
   ],
   "source": [
    "# Test the game\n",
    "game = Gridworld(size=4, mode='static')\n",
    "print(game.display())\n",
    "game.reward()\n",
    "action_set = {\n",
    "0: 'u',\n",
    "1: 'd',\n",
    "2: 'l',\n",
    "3: 'r',\n",
    "}\n"
   ]
  },
  {
   "cell_type": "code",
   "execution_count": 4,
   "metadata": {},
   "outputs": [
    {
     "name": "stderr",
     "output_type": "stream",
     "text": [
      "100%|██████████| 5000/5000 [00:21<00:00, 228.25it/s]\n"
     ]
    }
   ],
   "source": [
    "# Define the Q network \n",
    "l1 = len(game.board.render_np().flatten())\n",
    "l2, l3 = 150, 100\n",
    "l4 = game.board.size\n",
    "\n",
    "gamma = 0.9\n",
    "epsilon = 1.0\n",
    "learning_rate = 1e-3\n",
    "\n",
    "model = torch.nn.Sequential(\n",
    "torch.nn.Linear(l1, l2),\n",
    "torch.nn.ReLU(),\n",
    "torch.nn.Linear(l2, l3),\n",
    "torch.nn.ReLU(),\n",
    "torch.nn.Linear(l3,l4)\n",
    ")\n",
    "loss_fn = torch.nn.MSELoss()\n",
    "optimizer = torch.optim.Adam(model.parameters(), lr=learning_rate)\n",
    "\n",
    "# Train loop\n",
    "epochs = 5000\n",
    "losses = []\n",
    "for i in tqdm(range(epochs)):\n",
    "    game = Gridworld(size=4, mode='player')\n",
    "    state_ = game.board.render_np().flatten() \\\n",
    "             + np.random.rand(1,64)/10.0\n",
    "    \n",
    "    state1 = torch.from_numpy(state_).float()\n",
    "    game_on = 1\n",
    "    while(game_on):\n",
    "        qval = model(state1)\n",
    "        qval_ = qval.data.numpy()\n",
    "        if np.random.rand() < epsilon:\n",
    "            action_ = np.random.randint(0, 4)\n",
    "        else:\n",
    "            action_ = np.argmax(qval_)\n",
    "        \n",
    "        action = action_set[action_]\n",
    "        game.makeMove(action)\n",
    "        # Get new state and reward to the action made\n",
    "        state2_ = game.board.render_np().flatten() \\\n",
    "             + np.random.rand(1,64)/10.0\n",
    "        state2 = torch.from_numpy(state2_).float()\n",
    "        reward = game.reward()\n",
    "\n",
    "        with torch.no_grad():\n",
    "            newQ = model(state2)\n",
    "        maxQ = torch.max(newQ)\n",
    "        if reward == -1:\n",
    "            Y = reward + (gamma * maxQ)\n",
    "\n",
    "        else:\n",
    "            Y = reward\n",
    "\n",
    "        Y = torch.Tensor([Y,]).detach()\n",
    "        X = qval[0:1,action_]\n",
    "\n",
    "        loss = loss_fn(X, Y)\n",
    "        optimizer.zero_grad()\n",
    "        loss.backward()\n",
    "        losses.append(loss.item())\n",
    "        optimizer.step()\n",
    "        state1 = state2\n",
    "        if reward != -1:\n",
    "            game_on = 0\n",
    "        if epsilon > 0.1:\n",
    "            epsilon -= (1/epochs)\n"
   ]
  },
  {
   "cell_type": "code",
   "execution_count": 5,
   "metadata": {},
   "outputs": [
    {
     "data": {
      "image/png": "[encoded data removed]",
      "text/plain": [
       "<Figure size 432x288 with 1 Axes>"
      ]
     },
     "metadata": {
      "needs_background": "light"
     },
     "output_type": "display_data"
    }
   ],
   "source": [
    "smooth_losses = moving_average(losses, w=500)\n",
    "plt.plot(smooth_losses)\n",
    "plt.show()"
   ]
  },
  {
   "cell_type": "markdown",
   "metadata": {},
   "source": [
    "## Exprerience replay \n",
    "This network is not able to learn the 'random' mode of the game. This is mostly due to catastrophic forgetting, in which learning from a single experience may overwrite previously learned action-state associations."
   ]
  },
  {
   "cell_type": "code",
   "execution_count": 81,
   "metadata": {},
   "outputs": [
    {
     "name": "stderr",
     "output_type": "stream",
     "text": [
      "100%|██████████| 5000/5000 [00:44<00:00, 112.51it/s]\n"
     ]
    }
   ],
   "source": [
    "# Define the Q network \n",
    "l1 = len(game.board.render_np().flatten())\n",
    "l2, l3 = 150, 100\n",
    "l4 = game.board.size\n",
    "\n",
    "gamma = 0.9\n",
    "epsilon = 0.9\n",
    "learning_rate = 1e-3\n",
    "\n",
    "model = torch.nn.Sequential(\n",
    "torch.nn.Linear(l1, l2),\n",
    "torch.nn.ReLU(),\n",
    "torch.nn.Linear(l2, l3),\n",
    "torch.nn.ReLU(),\n",
    "torch.nn.Linear(l3,l4)\n",
    ")\n",
    "loss_fn = torch.nn.MSELoss()\n",
    "optimizer = torch.optim.Adam(model.parameters(), lr=learning_rate)\n",
    "\n",
    "# Train loop\n",
    "epochs = 5000\n",
    "mem_size = 1000\n",
    "batch_size = 200\n",
    "replay = deque(maxlen=mem_size)\n",
    "max_moves = 50 # max number of moves before game over\n",
    "\n",
    "losses = []\n",
    "for i in tqdm(range(epochs)):\n",
    "    game = Gridworld(size=4, mode='random')\n",
    "    state1_ = game.board.render_np().flatten() \\\n",
    "             + np.random.rand(1,64)/100.0\n",
    "    \n",
    "    state1 = torch.from_numpy(state1_).float()\n",
    "    game_on = 1\n",
    "    mov = 0\n",
    "    while(game_on):\n",
    "        mov += 1\n",
    "        qval = model(state1)\n",
    "        qval_ = qval.data.numpy()\n",
    "        if np.random.rand() < epsilon:\n",
    "            action_ = np.random.randint(0, 4)\n",
    "        else:\n",
    "            action_ = np.argmax(qval_)\n",
    "        \n",
    "        action = action_set[action_]\n",
    "        game.makeMove(action)\n",
    "        # Get new state and reward to the action made\n",
    "        state2_ = game.board.render_np().flatten() \\\n",
    "             + np.random.rand(1,64)/100.0\n",
    "        state2 = torch.from_numpy(state2_).float()\n",
    "        reward = game.reward()\n",
    "        done = True if reward > 0 else False\n",
    "\n",
    "        # Create and save the expericne \n",
    "        exp = (state1, action_, reward, state2, done)\n",
    "        replay.append(exp)\n",
    "        state1 = state2\n",
    "\n",
    "        if len(replay) > batch_size:\n",
    "            minibatch = random.sample(replay, batch_size)\n",
    "\n",
    "            state1_batch = torch.cat([s1 for (s1,a,r,s2,d) in minibatch]) \n",
    "            action_batch = torch.Tensor([a for (s1,a,r,s2,d) in minibatch]) \n",
    "            reward_batch = torch.Tensor([r for (s1,a,r,s2,d) in minibatch])\n",
    "            state2_batch = torch.cat([s2 for (s1,a,r,s2,d) in minibatch]) \n",
    "            done_batch = torch.Tensor([d for (s1,a,r,s2,d) in minibatch])\n",
    "\n",
    "            Q1 = model(state1_batch)\n",
    "            with torch.no_grad():\n",
    "                Q2 = model(state2_batch)\n",
    "\n",
    "            Y = reward_batch + gamma * ((1 - done_batch) * torch.max(Q2,dim=1)[0])\n",
    "            X = Q1.gather(dim=1,index=action_batch.long().unsqueeze(dim=1)).squeeze()\n",
    "\n",
    "            loss = loss_fn(X, Y.detach())\n",
    "            optimizer.zero_grad()\n",
    "            loss.backward()\n",
    "            losses.append(loss.item())\n",
    "            optimizer.step()\n",
    "\n",
    "        if reward != -1 or mov > max_moves:\n",
    "            game_on = 0\n",
    "            mov = 0\n",
    "\n",
    "    if epsilon > 0.1:\n",
    "        epsilon -= (1/epochs)\n",
    "\n",
    "\n",
    "losses = np.array(losses)"
   ]
  },
  {
   "cell_type": "code",
   "execution_count": 85,
   "metadata": {},
   "outputs": [
    {
     "data": {
      "image/png": "[encoded data removed]",
      "text/plain": [
       "<Figure size 432x288 with 1 Axes>"
      ]
     },
     "metadata": {
      "needs_background": "light"
     },
     "output_type": "display_data"
    },
    {
     "data": {
      "image/png": "[encoded data removed]",
      "text/plain": [
       "<Figure size 432x288 with 1 Axes>"
      ]
     },
     "metadata": {
      "needs_background": "light"
     },
     "output_type": "display_data"
    }
   ],
   "source": [
    "smooth_losses = moving_average(losses, w=500)\n",
    "plt.plot(losses)\n",
    "plt.show()\n",
    "plt.plot(smooth_losses)\n",
    "plt.show()"
   ]
  },
  {
   "cell_type": "markdown",
   "metadata": {},
   "source": [
    "## Testing the Deep-Q Network\n",
    "test the Deep Q network with actual game plays\n"
   ]
  },
  {
   "cell_type": "code",
   "execution_count": 86,
   "metadata": {},
   "outputs": [],
   "source": [
    "def test_model(model, mode='static', display = True):\n",
    "    i = 0\n",
    "    test_game = Gridworld(mode=mode)\n",
    "    state_ = test_game.board.render_np().flatten() + np.random.rand(1,64)/10.0\n",
    "    state = torch.from_numpy(state_).float()\n",
    "    if display:\n",
    "        print('Initial state:')\n",
    "        print(test_game.display())\n",
    "    game_on = 1\n",
    "    while(game_on):\n",
    "        qval = model(state)\n",
    "        qval_ = qval.data.numpy()\n",
    "        action_ = np.argmax(qval_)\n",
    "        action = action_set[action_]\n",
    "        if display:\n",
    "            print('Move #: %s; Taking action: %s' % (i, action))\n",
    "\n",
    "        test_game.makeMove(action)\n",
    "        state_ = test_game.board.render_np().flatten() + np.random.rand(1,64)/10.0\n",
    "        state = torch.from_numpy(state_).float()\n",
    "        if display:\n",
    "            print(test_game.display())\n",
    "        reward = test_game.reward()\n",
    "        if reward != -1:\n",
    "            if reward > 0:\n",
    "                game_on = 2\n",
    "                if display:\n",
    "                    print(\"Game won! Reward: %s\" % (reward,))\n",
    "                break\n",
    "            else:\n",
    "                game_on = 0 \n",
    "                if display:\n",
    "                    print(\"Game LOST. Reward: %s\" % (reward,))\n",
    "                break\n",
    "        \n",
    "        i += 1\n",
    "        if i > 15:\n",
    "            if display:\n",
    "                print(\"Game LOST. Too many moves\")\n",
    "            break\n",
    "    win = True if game_on == 2 else False\n",
    "    return win\n"
   ]
  },
  {
   "cell_type": "code",
   "execution_count": 87,
   "metadata": {},
   "outputs": [
    {
     "name": "stdout",
     "output_type": "stream",
     "text": [
      "Games played: 1000, # of wins: 940\n",
      "Win percentage: 0.94\n"
     ]
    }
   ],
   "source": [
    "max_games = 1000\n",
    "wins = 0\n",
    "for i in range(max_games):\n",
    "    win = test_model(model, mode='random', display=False)\n",
    "    if win:\n",
    "        wins += 1\n",
    "win_perc = float(wins) / float(max_games)\n",
    "print(\"Games played: {0}, # of wins: {1}\".format(max_games,wins))\n",
    "print(\"Win percentage: {}\".format(win_perc))\n"
   ]
  },
  {
   "cell_type": "markdown",
   "metadata": {},
   "source": [
    "## Target Network\n",
    "Add target network to improve stabiliy in training process"
   ]
  },
  {
   "cell_type": "code",
   "execution_count": 88,
   "metadata": {},
   "outputs": [
    {
     "name": "stderr",
     "output_type": "stream",
     "text": [
      "100%|██████████| 5000/5000 [00:47<00:00, 104.96it/s]\n"
     ]
    }
   ],
   "source": [
    "# Define models\n",
    "\n",
    "# Define the Q network \n",
    "l1 = len(game.board.render_np().flatten())\n",
    "l2, l3 = 150, 100\n",
    "l4 = game.board.size\n",
    "\n",
    "gamma = 0.9\n",
    "epsilon = 0.9\n",
    "learning_rate = 1e-3\n",
    "\n",
    "\n",
    "model = torch.nn.Sequential(\n",
    "torch.nn.Linear(l1, l2),\n",
    "torch.nn.ReLU(),\n",
    "torch.nn.Linear(l2, l3),\n",
    "torch.nn.ReLU(),\n",
    "torch.nn.Linear(l3,l4)\n",
    ")\n",
    "model2 = model2 = copy.deepcopy(model)\n",
    "model2.load_state_dict(model.state_dict())\n",
    "\n",
    "\n",
    "loss_fn = torch.nn.MSELoss()\n",
    "learning_rate = 1e-3\n",
    "optimizer = torch.optim.Adam(model.parameters(), lr=learning_rate)\n",
    "\n",
    "\n",
    "# Training Loop\n",
    "epochs = 5000\n",
    "mem_size = 1000\n",
    "batch_size = 200\n",
    "replay = deque(maxlen=mem_size)\n",
    "max_moves = 50 # max number of moves before game over\n",
    "h = 0\n",
    "sync_freq = 500\n",
    "j = 0\n",
    "\n",
    "losses = []\n",
    "for i in tqdm(range(epochs)):\n",
    "    game = Gridworld(size=4, mode='random')\n",
    "    state1_ = game.board.render_np().flatten() \\\n",
    "             + np.random.rand(1,64)/100.0\n",
    "    \n",
    "    state1 = torch.from_numpy(state1_).float()\n",
    "    game_on = 1\n",
    "    mov = 0\n",
    "    while(game_on):\n",
    "        j += 1\n",
    "        mov += 1\n",
    "        qval = model(state1)\n",
    "        qval_ = qval.data.numpy()\n",
    "        if np.random.rand() < epsilon:\n",
    "            action_ = np.random.randint(0, 4)\n",
    "        else:\n",
    "            action_ = np.argmax(qval_)\n",
    "        \n",
    "        action = action_set[action_]\n",
    "        game.makeMove(action)\n",
    "        # Get new state and reward to the action made\n",
    "        state2_ = game.board.render_np().flatten() \\\n",
    "             + np.random.rand(1,64)/100.0\n",
    "        state2 = torch.from_numpy(state2_).float()\n",
    "        reward = game.reward()\n",
    "        done = True if reward > 0 else False\n",
    "\n",
    "        # Create and save the expericne \n",
    "        exp = (state1, action_, reward, state2, done)\n",
    "        replay.append(exp)\n",
    "        state1 = state2\n",
    "\n",
    "        if len(replay) > batch_size:\n",
    "            minibatch = random.sample(replay, batch_size)\n",
    "\n",
    "            state1_batch = torch.cat([s1 for (s1,a,r,s2,d) in minibatch]) \n",
    "            action_batch = torch.Tensor([a for (s1,a,r,s2,d) in minibatch]) \n",
    "            reward_batch = torch.Tensor([r for (s1,a,r,s2,d) in minibatch])\n",
    "            state2_batch = torch.cat([s2 for (s1,a,r,s2,d) in minibatch]) \n",
    "            done_batch = torch.Tensor([d for (s1,a,r,s2,d) in minibatch])\n",
    "\n",
    "            Q1 = model(state1_batch)\n",
    "            with torch.no_grad(): #### Use the Target network for prediction!!\n",
    "                Q2 = model2(state2_batch)\n",
    "\n",
    "            Y = reward_batch + gamma * ((1 - done_batch) * torch.max(Q2,dim=1)[0])\n",
    "            X = Q1.gather(dim=1,index=action_batch.long().unsqueeze(dim=1)).squeeze()\n",
    "\n",
    "            loss = loss_fn(X, Y.detach())\n",
    "            optimizer.zero_grad()\n",
    "            loss.backward()\n",
    "            losses.append(loss.item())\n",
    "            optimizer.step()\n",
    "\n",
    "            if j % sync_freq == 0:    # Update the target nework every sync_freq epoch\n",
    "                model2.load_state_dict(model.state_dict())\n",
    "\n",
    "        if reward != -1 or mov > max_moves:\n",
    "            game_on = 0\n",
    "            mov = 0\n",
    "\n",
    "    if epsilon > 0.1:\n",
    "        epsilon -= (1/epochs)\n",
    "\n",
    "\n",
    "losses = np.array(losses)"
   ]
  },
  {
   "cell_type": "code",
   "execution_count": 89,
   "metadata": {},
   "outputs": [
    {
     "data": {
      "image/png": "[encoded data removed]",
      "text/plain": [
       "<Figure size 432x288 with 1 Axes>"
      ]
     },
     "metadata": {
      "needs_background": "light"
     },
     "output_type": "display_data"
    },
    {
     "data": {
      "image/png": "[encoded data removed]",
      "text/plain": [
       "<Figure size 432x288 with 1 Axes>"
      ]
     },
     "metadata": {
      "needs_background": "light"
     },
     "output_type": "display_data"
    }
   ],
   "source": [
    "smooth_losses = moving_average(losses, w=500)\n",
    "plt.plot(losses)\n",
    "plt.show()\n",
    "plt.plot(smooth_losses)\n",
    "plt.show()"
   ]
  },
  {
   "cell_type": "code",
   "execution_count": 94,
   "metadata": {},
   "outputs": [
    {
     "name": "stdout",
     "output_type": "stream",
     "text": [
      "Games played: 1000, # of wins: 934\n",
      "Win percentage: 0.934\n"
     ]
    }
   ],
   "source": [
    "max_games = 1000\n",
    "wins = 0\n",
    "for i in range(max_games):\n",
    "    win = test_model(model, mode='random', display=False)\n",
    "    if win:\n",
    "        wins += 1\n",
    "win_perc = float(wins) / float(max_games)\n",
    "print(\"Games played: {0}, # of wins: {1}\".format(max_games,wins))\n",
    "print(\"Win percentage: {}\".format(win_perc))\n"
   ]
  }
 ],
 "metadata": {
  "kernelspec": {
   "display_name": "Python 3.10.4 ('torch')",
   "language": "python",
   "name": "python3"
  },
  "language_info": {
   "codemirror_mode": {
    "name": "ipython",
    "version": 3
   },
   "file_extension": ".py",
   "mimetype": "text/x-python",
   "name": "python",
   "nbconvert_exporter": "python",
   "pygments_lexer": "ipython3",
   "version": "3.10.4"
  },
  "orig_nbformat": 4,
  "vscode": {
   "interpreter": {
    "hash": "c846bd07bb5479325c46b6275f131453b7dc0fa4a6840eaeee3e7d9d8f106bc2"
   }
  }
 },
 "nbformat": 4,
 "nbformat_minor": 2
}
