{
 "cells": [
  {
   "cell_type": "code",
   "execution_count": 8,
   "metadata": {},
   "outputs": [],
   "source": [
    "import gym\n",
    "import numpy as np\n",
    "import torch\n",
    "import matplotlib.pyplot as plt\n",
    "from tqdm import tqdm\n",
    "from utils.miscellaneous import moving_average"
   ]
  },
  {
   "cell_type": "code",
   "execution_count": 9,
   "metadata": {},
   "outputs": [],
   "source": [
    "# Define and example command for Cartpole v0\n",
    "env = gym.make('CartPole-v1')\n",
    "state1 = env.reset()\n",
    "action = env.action_space.sample()\n",
    "state, reward, done, info = env.step(action)\n"
   ]
  },
  {
   "cell_type": "code",
   "execution_count": 25,
   "metadata": {},
   "outputs": [],
   "source": [
    "def discount_rewards(rewards, gamma=0.99):\n",
    "    lenr = len(rewards)\n",
    "    disc_return = torch.pow(gamma,torch.arange(lenr).float()) * rewards   \n",
    "    disc_return /= disc_return.max() #Normalizes to 0,1\n",
    "    return disc_return\n",
    "\n",
    "def loss_fn(preds, r):\n",
    "    return -1 * torch.sum(r * torch.log(preds))  # sum of action probability times reward\n"
   ]
  },
  {
   "cell_type": "code",
   "execution_count": 31,
   "metadata": {},
   "outputs": [
    {
     "name": "stderr",
     "output_type": "stream",
     "text": [
      "  0%|          | 0/2000 [00:00<?, ?it/s]/home/mehrdad/miniconda3/envs/torch/lib/python3.10/site-packages/torch/nn/modules/container.py:139: UserWarning: Implicit dimension choice for softmax has been deprecated. Change the call to include dim=X as an argument.\n",
      "  input = module(input)\n",
      "100%|██████████| 2000/2000 [00:36<00:00, 55.35it/s]\n"
     ]
    }
   ],
   "source": [
    "# Define the network\n",
    "l1 = env.observation_space.shape[0]\n",
    "l2 = 150 # Hidden layer\n",
    "l3 = 2\n",
    "l1 = 4\n",
    "\n",
    "model = torch.nn.Sequential(\n",
    "torch.nn.Linear(l1, l2),\n",
    "torch.nn.LeakyReLU(),\n",
    "torch.nn.Linear(l2, l3),\n",
    "torch.nn.Softmax()\n",
    ")\n",
    "\n",
    "learning_rate = 0.0009\n",
    "optimizer = torch.optim.Adam(model.parameters(), lr=learning_rate)\n",
    "\n",
    "# Training loop\n",
    "Max_duration = 200\n",
    "Max_episod = 2000\n",
    "gamma = 0.9\n",
    "score = []\n",
    "for ep in tqdm(range(Max_episod)):\n",
    "    state1 = env.reset()\n",
    "    done = False \n",
    "    transitions = [] # list of state, action, reward\n",
    "    for t in range(Max_duration):\n",
    "        action_prob = model(torch.from_numpy(state1).float())\n",
    "        action = np.random.choice(np.array([0, 1]), p=action_prob.data.numpy())\n",
    "        state0 = state1.copy()\n",
    "        state1 , _, done, info = env.step(action)\n",
    "        transitions.append((state0, action, t+1))\n",
    "        if done:\n",
    "            break\n",
    "        \n",
    "    ep_len = len(transitions)\n",
    "    score.append(ep_len)\n",
    "    reward_batch = torch.Tensor([r for (s,a,r) in transitions]).flip(dims=(0,))\n",
    "    disc_reward = discount_rewards(reward_batch)\n",
    "    state_batch = torch.Tensor([s for (s,a,r) in transitions])\n",
    "    action_batch = torch.Tensor([a for (s,a,r) in transitions])\n",
    "    pred_batch = model(state_batch)\n",
    "    prob_batch = pred_batch.gather(dim=1, index=action_batch.long().view(-1,1)).squeeze() # action prob associated with actual taken actions\n",
    "    loss = loss_fn(prob_batch, disc_reward)\n",
    "    optimizer.zero_grad()\n",
    "    loss.backward()\n",
    "    optimizer.step()"
   ]
  },
  {
   "cell_type": "code",
   "execution_count": 32,
   "metadata": {},
   "outputs": [
    {
     "data": {
      "image/png": "[encoded data removed]",
      "text/plain": [
       "<Figure size 432x288 with 1 Axes>"
      ]
     },
     "metadata": {
      "needs_background": "light"
     },
     "output_type": "display_data"
    }
   ],
   "source": [
    "plt.plot(moving_average(score, w = 50))\n",
    "plt.xlabel(\"Epoch, # Game\")\n",
    "plt.ylabel(\"Game duration\")\n",
    "plt.show()"
   ]
  }
 ],
 "metadata": {
  "kernelspec": {
   "display_name": "Python 3.10.4 ('torch')",
   "language": "python",
   "name": "python3"
  },
  "language_info": {
   "codemirror_mode": {
    "name": "ipython",
    "version": 3
   },
   "file_extension": ".py",
   "mimetype": "text/x-python",
   "name": "python",
   "nbconvert_exporter": "python",
   "pygments_lexer": "ipython3",
   "version": "3.10.4"
  },
  "orig_nbformat": 4,
  "vscode": {
   "interpreter": {
    "hash": "c846bd07bb5479325c46b6275f131453b7dc0fa4a6840eaeee3e7d9d8f106bc2"
   }
  }
 },
 "nbformat": 4,
 "nbformat_minor": 2
}
